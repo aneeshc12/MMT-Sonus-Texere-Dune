{
 "cells": [
  {
   "attachments": {},
   "cell_type": "markdown",
   "metadata": {},
   "source": [
    "# Align the Book and Movie"
   ]
  },
  {
   "cell_type": "code",
   "execution_count": 33,
   "metadata": {},
   "outputs": [
    {
     "name": "stdout",
     "output_type": "stream",
     "text": [
      "The autoreload extension is already loaded. To reload it, use:\n",
      "  %reload_ext autoreload\n"
     ]
    }
   ],
   "source": [
    "import os\n",
    "import numpy as np\n",
    "import pandas as pd\n",
    "import scipy.io as sio\n",
    "import re\n",
    "import pylcs\n",
    "import json\n",
    "from collections import Counter\n",
    "from tqdm import tqdm\n",
    "%load_ext autoreload\n",
    "%autoreload 2"
   ]
  },
  {
   "attachments": {},
   "cell_type": "markdown",
   "metadata": {},
   "source": [
    "Set the path for the scene break file"
   ]
  },
  {
   "cell_type": "code",
   "execution_count": 34,
   "metadata": {},
   "outputs": [],
   "source": [
    "SCENE_BREAK_PATH = \"processed/shotdetect/scene_detect_output.mat\""
   ]
  },
  {
   "cell_type": "markdown",
   "metadata": {},
   "source": [
    "# Utilities"
   ]
  },
  {
   "cell_type": "code",
   "execution_count": 35,
   "metadata": {},
   "outputs": [],
   "source": [
    "def savecache(data, name):\n",
    "    np.save(f\"{name}.npy\", data)\n",
    "\n",
    "def loadcache(name):\n",
    "    out = np.load(f\"{name}.npy\", allow_pickle=True)\n",
    "    if isinstance(out, np.ndarray):\n",
    "        return out\n",
    "    else:\n",
    "        return out.item()"
   ]
  },
  {
   "cell_type": "markdown",
   "metadata": {},
   "source": [
    "# Load Scene Breaks"
   ]
  },
  {
   "cell_type": "code",
   "execution_count": 38,
   "metadata": {},
   "outputs": [],
   "source": [
    "scene_breaks = sio.loadmat(SCENE_BREAK_PATH)['scene_breaks']\n",
    "scene_breaks = scene_breaks - 1 # Convert from matlab indexing to python\n",
    "scene_breaks = np.array(list(filter(lambda x: x[2], scene_breaks)))\n",
    "# scene_breaks"
   ]
  },
  {
   "cell_type": "markdown",
   "metadata": {},
   "source": [
    "# Load Shot Boundaries and TimeStamps"
   ]
  },
  {
   "attachments": {},
   "cell_type": "markdown",
   "metadata": {},
   "source": [
    "Set the path to vid events computed earlier"
   ]
  },
  {
   "cell_type": "code",
   "execution_count": 39,
   "metadata": {},
   "outputs": [],
   "source": [
    "VIDEVENTS_PATH = \"processed/dune/dune.videvents\"\n",
    "shot_boundaries = pd.read_csv(VIDEVENTS_PATH, sep=' ')"
   ]
  },
  {
   "cell_type": "markdown",
   "metadata": {},
   "source": [
    "# Convert Scene Break to Time Maps"
   ]
  },
  {
   "cell_type": "code",
   "execution_count": 40,
   "metadata": {},
   "outputs": [
    {
     "name": "stdout",
     "output_type": "stream",
     "text": [
      "       frame      time CVHCI_VIDEOEVENTS_V1\n",
      "0        314    13.096                  CUT\n",
      "1        773    32.241                  CUT\n",
      "2       1080    45.045                  CUT\n",
      "3       1458    60.811                  CUT\n",
      "4       1770    73.824                  CUT\n",
      "...      ...       ...                  ...\n",
      "2278  211538  8822.897                  CUT\n",
      "2279  211730  8830.905                  CUT\n",
      "2280  211870  8836.745                  CUT\n",
      "2281  212083  8845.628                  CUT\n",
      "2282  214070  8928.503                  CUT\n",
      "\n",
      "[2283 rows x 3 columns]\n"
     ]
    }
   ],
   "source": [
    "start_times = []\n",
    "end_times = []\n",
    "print(shot_boundaries)"
   ]
  },
  {
   "cell_type": "code",
   "execution_count": 41,
   "metadata": {},
   "outputs": [],
   "source": [
    "for scene_break in scene_breaks:\n",
    "    start_shot, end_shot, nshots = scene_break\n",
    "    \n",
    "    start_time, end_time = shot_boundaries.iloc[start_shot]['time'], shot_boundaries.iloc[end_shot-1]['time']\n",
    "    \n",
    "    start_times.append(start_time)\n",
    "    end_times.append(end_time)\n",
    "    \n",
    "scene_break_times = np.hstack([scene_breaks, np.array(start_times).reshape(-1, 1), np.array(end_times).reshape(-1, 1)])\n",
    "\n",
    "# Save to cache: start, end, #scenes, start_time, end_time \n",
    "savecache(scene_break_times, \"scene_break_times\")"
   ]
  },
  {
   "cell_type": "markdown",
   "metadata": {},
   "source": [
    "# Get All Subtitles Within Range"
   ]
  },
  {
   "cell_type": "markdown",
   "metadata": {},
   "source": [
    "Set the subtitles and transcript path"
   ]
  },
  {
   "cell_type": "code",
   "execution_count": 45,
   "metadata": {},
   "outputs": [],
   "source": [
    "SRT_PATH = \"./processed/dune/dune_sub.srt\"\n",
    "TRANSCRIPT_JSON_PATH = \"./processed/dune/dune_transcript.json\"\n",
    "\n",
    "# ***convert srt to transcript json using convert_srt_to_json.py***\n",
    "import pysrt\n",
    "from pysrt.srttime import SubRipTime\n",
    "\n",
    "ALL_SUBS = []\n",
    "SUBTITLE = pysrt.open(SRT_PATH)\n",
    "f = open(TRANSCRIPT_JSON_PATH, \"r\")\n",
    "f = json.load(f)\n",
    "TRANSCRIPT = f['transcript']\n",
    "\n",
    "#Make a video instance\n",
    "\n",
    "from scripts.videoDialogueExtractor import Video\n",
    "video = Video(TRANSCRIPT, scene_break_times)\n",
    "\n",
    "# Subtitles within range\n",
    "\n",
    "def get_subtitle_characters(start, end):\n",
    "    matched_subs = []\n",
    "    for subtitle in TRANSCRIPT:\n",
    "        \n",
    "        if subtitle['type']:\n",
    "            continue\n",
    "        \n",
    "        time = subtitle['time']\n",
    "        time_s = SubRipTime.from_string(subtitle['time'].split(\"-->\")[0])\n",
    "        time_ms = time_s.ordinal // 1000\n",
    "\n",
    "        if time_ms >= start and time_ms <= end:\n",
    "            if 'actor' in subtitle.keys():\n",
    "                matched_subs.append(subtitle['actor'])\n",
    "    return matched_subs\n",
    "def get_subtitles(start, end):\n",
    "    \n",
    "    f = open(TRANSCRIPT_JSON_PATH, \"r\")\n",
    "    f = json.load(f)\n",
    "    TRANSCRIPT = f['transcript']\n",
    "\n",
    "    matched_subs = []\n",
    "    for subtitle in TRANSCRIPT:\n",
    "        \n",
    "        # if subtitle['type']:\n",
    "        #     continue\n",
    "\n",
    "        time = subtitle['time']\n",
    "\n",
    "        time_s = SubRipTime.from_string(subtitle['time'].split(\"-->\")[0])\n",
    "        time_ms = time_s.ordinal // 1000\n",
    "        \n",
    "#         time_ms = time_s.hour * 60 * 60 + time_s.minute * 60 + time_s.second\n",
    "\n",
    "        if time_ms >= start and time_ms <= end:\n",
    "            matched_subs.append(subtitle['line'])\n",
    "    return matched_subs"
   ]
  },
  {
   "attachments": {},
   "cell_type": "markdown",
   "metadata": {},
   "source": [
    "# Create Histogram for Movie (NEEDS CHARACTER DIALOGUE, NOT AVAILABLE FOR DUNE)"
   ]
  },
  {
   "cell_type": "code",
   "execution_count": 30,
   "metadata": {},
   "outputs": [
    {
     "ename": "KeyError",
     "evalue": "'type'",
     "output_type": "error",
     "traceback": [
      "\u001b[0;31m---------------------------------------------------------------------------\u001b[0m",
      "\u001b[0;31mKeyError\u001b[0m                                  Traceback (most recent call last)",
      "Cell \u001b[0;32mIn[30], line 6\u001b[0m\n\u001b[1;32m      4\u001b[0m \u001b[39mfor\u001b[39;00m scene \u001b[39min\u001b[39;00m scene_break_times:\n\u001b[1;32m      5\u001b[0m     start, end, num, start_time, end_time \u001b[39m=\u001b[39m scene\n\u001b[0;32m----> 6\u001b[0m     subs \u001b[39m=\u001b[39m get_subtitle_characters(start_time, end_time)\n\u001b[1;32m      8\u001b[0m     \u001b[39mfor\u001b[39;00m sub_char \u001b[39min\u001b[39;00m subs:\n\u001b[1;32m      9\u001b[0m         all_movie_chars\u001b[39m.\u001b[39mappend(sub_char\u001b[39m.\u001b[39mlower())\n",
      "Cell \u001b[0;32mIn[28], line 5\u001b[0m, in \u001b[0;36mget_subtitle_characters\u001b[0;34m(start, end)\u001b[0m\n\u001b[1;32m      2\u001b[0m matched_subs \u001b[39m=\u001b[39m []\n\u001b[1;32m      3\u001b[0m \u001b[39mfor\u001b[39;00m subtitle \u001b[39min\u001b[39;00m TRANSCRIPT:\n\u001b[0;32m----> 5\u001b[0m     \u001b[39mif\u001b[39;00m subtitle[\u001b[39m'\u001b[39;49m\u001b[39mtype\u001b[39;49m\u001b[39m'\u001b[39;49m]:\n\u001b[1;32m      6\u001b[0m         \u001b[39mcontinue\u001b[39;00m\n\u001b[1;32m      8\u001b[0m     time \u001b[39m=\u001b[39m subtitle[\u001b[39m'\u001b[39m\u001b[39mtime\u001b[39m\u001b[39m'\u001b[39m]\n",
      "\u001b[0;31mKeyError\u001b[0m: 'type'"
     ]
    }
   ],
   "source": [
    "all_movie_chars = []\n",
    "OTHER_INDEX = -100\n",
    "\n",
    "for scene in scene_break_times:\n",
    "    start, end, num, start_time, end_time = scene\n",
    "    subs = get_subtitle_characters(start_time, end_time)\n",
    "    \n",
    "    for sub_char in subs:\n",
    "        all_movie_chars.append(sub_char.lower())\n",
    "    \n",
    "all_movie_chars = list(set(all_movie_chars))\n",
    "charIndMapping = {char:i for i, char in enumerate(all_movie_chars)}"
   ]
  },
  {
   "cell_type": "code",
   "execution_count": null,
   "metadata": {
    "scrolled": true
   },
   "outputs": [
    {
     "data": {
      "text/plain": [
       "{'snape': 0,\n",
       " 'mrs. weasley': 1,\n",
       " 'flitwick': 2,\n",
       " 'fred': 3,\n",
       " 'hermione': 4,\n",
       " 'the fat lady': 5,\n",
       " 'neville longbottom': 6,\n",
       " 'hagrid': 7,\n",
       " 'petunia': 8,\n",
       " 'boy': 9,\n",
       " 'voldemort': 10,\n",
       " 'harry': 11,\n",
       " 'seamus': 12,\n",
       " 'gryffindors': 13,\n",
       " 'goblin': 14,\n",
       " 'griphook': 15,\n",
       " 'sorting hat': 16,\n",
       " 'oliver': 17,\n",
       " 'ron and harry': 18,\n",
       " 'unseen inhuman voice': 19,\n",
       " 'ron and seamus': 20,\n",
       " 'girl': 21,\n",
       " 'filch': 22,\n",
       " 'tom': 23,\n",
       " 'dudley': 24,\n",
       " 'fred and george': 25,\n",
       " 'hooch': 26,\n",
       " 'class': 27,\n",
       " 'ron': 28,\n",
       " 'neville': 29,\n",
       " 'percy': 30,\n",
       " 'vernon': 31,\n",
       " 'nick': 32,\n",
       " 'man in a painting': 33,\n",
       " 'bloody baron': 34,\n",
       " 'all': 35,\n",
       " 'crowd': 36,\n",
       " 'guard': 37,\n",
       " 'boy 2': 38,\n",
       " 'snake': 39,\n",
       " 'george': 40,\n",
       " 'flint': 41,\n",
       " 'mcgonagall': 42,\n",
       " 'lee': 43,\n",
       " 'firenze': 44,\n",
       " 'witch': 45,\n",
       " 'ginny': 46,\n",
       " 'dean': 47,\n",
       " 'ollivander': 48,\n",
       " 'dumbledore': 49,\n",
       " 'draco': 50,\n",
       " 'man': 51,\n",
       " 'all (including flitwick)': 52,\n",
       " 'quirrell': 53,\n",
       " 'students': 54,\n",
       " 'woman': 55}"
      ]
     },
     "execution_count": 31,
     "metadata": {},
     "output_type": "execute_result"
    }
   ],
   "source": [
    "print(\"Characters present:\\n\", charIndMapping)"
   ]
  },
  {
   "cell_type": "code",
   "execution_count": null,
   "metadata": {},
   "outputs": [],
   "source": [
    "OTHER_INDEX = len(all_movie_chars)\n",
    "\n",
    "# Uncomment this if you want to include unknown characters\n",
    "# charIndMapping['other'] = OTHER_INDEX\n",
    "# all_movie_chars.append('other')"
   ]
  },
  {
   "cell_type": "markdown",
   "metadata": {},
   "source": [
    "Make default histogram"
   ]
  },
  {
   "cell_type": "code",
   "execution_count": null,
   "metadata": {},
   "outputs": [
    {
     "ename": "NameError",
     "evalue": "name 'all_movie_chars' is not defined",
     "output_type": "error",
     "traceback": [
      "\u001b[0;31m---------------------------------------------------------------------------\u001b[0m",
      "\u001b[0;31mNameError\u001b[0m                                 Traceback (most recent call last)",
      "Cell \u001b[0;32mIn[167], line 7\u001b[0m\n\u001b[1;32m      4\u001b[0m start, end, num, start_time, end_time \u001b[39m=\u001b[39m scene\n\u001b[1;32m      5\u001b[0m \u001b[39m# subs = get_subtitle_characters(start_time, end_time)    \u001b[39;00m\n\u001b[0;32m----> 7\u001b[0m scene_hist \u001b[39m=\u001b[39m \u001b[39mlist\u001b[39m(np\u001b[39m.\u001b[39mzeros(\u001b[39mlen\u001b[39m(all_movie_chars)))\n\u001b[1;32m      9\u001b[0m \u001b[39mfor\u001b[39;00m sub_char \u001b[39min\u001b[39;00m subs:\n\u001b[1;32m     10\u001b[0m     scene_hist[charIndMapping[sub_char\u001b[39m.\u001b[39mlower()]] \u001b[39m+\u001b[39m\u001b[39m=\u001b[39m \u001b[39m1\u001b[39m\n",
      "\u001b[0;31mNameError\u001b[0m: name 'all_movie_chars' is not defined"
     ]
    }
   ],
   "source": [
    "scene_char_histograms = []\n",
    "\n",
    "for scene in scene_break_times:\n",
    "    start, end, num, start_time, end_time = scene\n",
    "    subs = get_subtitle_characters(start_time, end_time)    \n",
    "    \n",
    "    scene_hist = list(np.zeros(len(all_movie_chars)))\n",
    "    \n",
    "    for sub_char in subs:\n",
    "        scene_hist[charIndMapping[sub_char.lower()]] += 1\n",
    "    \n",
    "    scene_char_histograms.append(scene_hist)"
   ]
  },
  {
   "cell_type": "markdown",
   "metadata": {},
   "source": [
    "# Get All Book Names"
   ]
  },
  {
   "cell_type": "code",
   "execution_count": null,
   "metadata": {},
   "outputs": [],
   "source": [
    "from scripts.characterNameBookParser import getSpeakerChapterNames, getMentionedChapterNames"
   ]
  },
  {
   "attachments": {},
   "cell_type": "markdown",
   "metadata": {},
   "source": [
    "Set path to the processed book (from `jsonify_book`) and the book text files"
   ]
  },
  {
   "cell_type": "code",
   "execution_count": null,
   "metadata": {},
   "outputs": [],
   "source": [
    "# BOOK_PROC_PATH = \"../book-process/processed_data/Harry_Potter\"\n",
    "# BOOK_TEXT_PATH = \"../Soundtracking-Books/data/HP/chapters/\""
   ]
  },
  {
   "cell_type": "code",
   "execution_count": null,
   "metadata": {},
   "outputs": [],
   "source": [
    "# chapter_names = os.listdir(BOOK_PROC_PATH)"
   ]
  },
  {
   "cell_type": "markdown",
   "metadata": {},
   "source": [
    "Get Character Occurence per chapter"
   ]
  },
  {
   "cell_type": "code",
   "execution_count": null,
   "metadata": {},
   "outputs": [],
   "source": [
    "chapterCharacterCount = list(map(lambda x: getSpeakerChapterNames(os.path.join(BOOK_PROC_PATH, x, x)), chapter_names))"
   ]
  },
  {
   "cell_type": "markdown",
   "metadata": {},
   "source": [
    "Make character list after taking union"
   ]
  },
  {
   "cell_type": "code",
   "execution_count": null,
   "metadata": {
    "scrolled": false
   },
   "outputs": [],
   "source": [
    "allBookNames = []\n",
    "\n",
    "for chapCharCount in chapterCharacterCount:\n",
    "    for key in chapCharCount.keys():\n",
    "        allBookNames.append(key.lower())\n",
    "        \n",
    "allBookNames = list(set(allBookNames))"
   ]
  },
  {
   "cell_type": "markdown",
   "metadata": {},
   "source": [
    "Match names in book to subtitle names"
   ]
  },
  {
   "cell_type": "code",
   "execution_count": null,
   "metadata": {
    "scrolled": true
   },
   "outputs": [
    {
     "name": "stdout",
     "output_type": "stream",
     "text": [
      "draco malfoy - draco\n",
      "snape - snape\n",
      "grunt - man in a painting\n",
      "mrs. weasley - mrs. weasley\n",
      "oliver wood - oliver\n",
      "fred - fred\n",
      "hermione - hermione\n",
      "piers polkiss - man in a painting\n",
      "hagrid - hagrid\n",
      "fred weasley - mrs. weasley\n",
      "petunia - petunia\n",
      "gryffindor keeper wood - man in a painting\n",
      "dudley dursley - dudley\n",
      "nicholas flamel dumbledore - dumbledore\n",
      "harry - harry\n",
      "ronan - ron and harry\n",
      "diagon alley harry - ron and harry\n",
      "griphook - griphook\n",
      "mrs. dursley mapped to other\n",
      "wood mapped to other\n",
      "the gryffindors - gryffindors\n",
      "professor quirrell - quirrell\n",
      "mrs. norris mapped to other\n",
      "sir nicholas de mimsy mapped to other\n",
      "filch - filch\n",
      "dudley - dudley\n",
      "professor flitwick - flitwick\n",
      "rubeus hagrid - hagrid\n",
      "ron - ron and harry\n",
      "malfoy - man in a painting\n",
      "neville - neville longbottom\n",
      "professor dumbledore - dumbledore\n",
      "percy - percy\n",
      "madam malkin - man in a painting\n",
      "gryffindor - man in a painting\n",
      "hufflepuff mapped to other\n",
      "diggle mapped to other\n",
      "friar mapped to other\n",
      "madam pomfrey - fred and george\n",
      "halloween malfoy - all\n",
      "hermione granger - hermione\n",
      "argus filch - filch\n",
      "mr. ollivander - ollivander\n",
      "nearly headless nick - nick\n",
      "chaser angelina johnson - ron and harry\n",
      "uncle vernon - vernon\n",
      "the weasleys - mrs. weasley\n",
      "finnigan - man in a painting\n",
      "professor snape - snape\n",
      "seamus finnigan - seamus\n",
      "slytherins - the fat lady\n",
      "parvati patil - man in a painting\n",
      "george - fred and george\n",
      "miss granger - man in a painting\n",
      "pansy parkinson - man in a painting\n",
      "slytherin - the fat lady\n",
      "firenze - firenze\n",
      "aunt petunia - petunia\n",
      "goyle mapped to other\n",
      "percy weasley - mrs. weasley\n",
      "george weasley - mrs. weasley\n",
      "lord voldemort - voldemort\n",
      "mr. dursley mapped to other\n",
      "harry potter - harry\n",
      "madam hooch - hooch\n",
      "norbert the norwegian ridgeback quirrell - quirrell\n",
      "albus dumbledore - dumbledore\n",
      "dean - dean\n",
      "bane - man in a painting\n",
      "professor mcgonagall - mcgonagall\n",
      "dumbledore - dumbledore\n",
      "ginny weasley - mrs. weasley\n",
      "ravenclaw - all (including flitwick)\n",
      "gloom mapped to other\n",
      "the dursleys - the fat lady\n",
      "jordan - man in a painting\n",
      "peeves mapped to other\n",
      "quirrell - quirrell\n",
      "susan - man in a painting\n"
     ]
    }
   ],
   "source": [
    "bookMovieNameMap = {}\n",
    "\n",
    "for name in allBookNames:\n",
    "    maxLCS = 0\n",
    "    newname = \"NONE\"\n",
    "    \n",
    "    filtered_name = name.replace(\"professor\", '').replace(\"aunt\", '').replace(\"uncle\", '').strip()\n",
    "    \n",
    "    for movie_name in all_movie_chars:        \n",
    "        lcs = pylcs.lcs2(movie_name, filtered_name)\n",
    "                \n",
    "        if lcs > maxLCS:\n",
    "            \n",
    "            words = list(filter(lambda x: len(x) > 1 and x.isalpha(), movie_name.split()))\n",
    "            word_length = list(map(lambda x: len(x), words))\n",
    "\n",
    "            if len(word_length) == 0:\n",
    "                continue\n",
    "            \n",
    "            if lcs not in word_length and not (lcs > np.max(word_length)):\n",
    "                continue\n",
    "            \n",
    "            maxLCS = lcs\n",
    "            newname = movie_name\n",
    "            \n",
    "    if newname == \"NONE\":\n",
    "        print(name, \"mapped to other\")\n",
    "        bookMovieNameMap[name] = 'other'\n",
    "    else:\n",
    "        print(name, \"-\", newname)\n",
    "        bookMovieNameMap[name] = newname      "
   ]
  },
  {
   "attachments": {},
   "cell_type": "markdown",
   "metadata": {},
   "source": [
    "Manually fix the incorrect ones - change depending on your book"
   ]
  },
  {
   "cell_type": "code",
   "execution_count": null,
   "metadata": {},
   "outputs": [],
   "source": [
    "bookMovieNameMap['ginny weasley'] = 'ginny'\n",
    "bookMovieNameMap['slytherins'] = 'other'\n",
    "bookMovieNameMap['madam malkin'] = 'other'\n",
    "bookMovieNameMap['professor flitwick'] = 'flitwick'\n",
    "bookMovieNameMap['madam pomfrey'] = 'other'\n",
    "bookMovieNameMap['bane'] = 'other'\n",
    "bookMovieNameMap['jordan'] = 'other'\n",
    "bookMovieNameMap['grunt'] = 'other'\n",
    "bookMovieNameMap['norbert the norwegian ridgeback quirrell'] = 'other'\n",
    "bookMovieNameMap['mrs. dursley'] = 'petunia'\n",
    "bookMovieNameMap['nicholas flamel dumbledore'] = 'other'\n",
    "bookMovieNameMap['harry potter'] = 'harry'\n",
    "bookMovieNameMap['george weasley'] = 'george'\n",
    "bookMovieNameMap['george'] = 'george'\n",
    "bookMovieNameMap['seamus finnigan'] = 'seamus'\n",
    "bookMovieNameMap['finnigan'] = 'other'\n",
    "bookMovieNameMap['harry '] = 'harry'\n",
    "bookMovieNameMap['malfoy'] = 'draco'\n",
    "bookMovieNameMap['gryffindor'] = 'other'\n",
    "bookMovieNameMap['miss granger'] = 'hermione'\n",
    "bookMovieNameMap['gryffindor keeper wood'] = 'other'"
   ]
  },
  {
   "cell_type": "markdown",
   "metadata": {},
   "source": [
    "# Create Book Histogram"
   ]
  },
  {
   "cell_type": "code",
   "execution_count": null,
   "metadata": {},
   "outputs": [],
   "source": [
    "book_chap_histograms = []\n",
    "\n",
    "for chapCharCount in chapterCharacterCount:\n",
    "\n",
    "    chap_hist = list(np.zeros(len(all_movie_chars)))\n",
    "\n",
    "    for key in chapCharCount.keys():\n",
    "        name = key.lower()\n",
    "        if bookMovieNameMap[name] != 'other':\n",
    "            chap_hist[charIndMapping[bookMovieNameMap[name]]] += chapCharCount[key]\n",
    "\n",
    "    book_chap_histograms.append(chap_hist)"
   ]
  },
  {
   "cell_type": "code",
   "execution_count": null,
   "metadata": {},
   "outputs": [
    {
     "data": {
      "text/plain": [
       "{'snape': 0,\n",
       " 'mrs. weasley': 1,\n",
       " 'flitwick': 2,\n",
       " 'fred': 3,\n",
       " 'hermione': 4,\n",
       " 'the fat lady': 5,\n",
       " 'neville longbottom': 6,\n",
       " 'hagrid': 7,\n",
       " 'petunia': 8,\n",
       " 'boy': 9,\n",
       " 'voldemort': 10,\n",
       " 'harry': 11,\n",
       " 'seamus': 12,\n",
       " 'gryffindors': 13,\n",
       " 'goblin': 14,\n",
       " 'griphook': 15,\n",
       " 'sorting hat': 16,\n",
       " 'oliver': 17,\n",
       " 'ron and harry': 18,\n",
       " 'unseen inhuman voice': 19,\n",
       " 'ron and seamus': 20,\n",
       " 'girl': 21,\n",
       " 'filch': 22,\n",
       " 'tom': 23,\n",
       " 'dudley': 24,\n",
       " 'fred and george': 25,\n",
       " 'hooch': 26,\n",
       " 'class': 27,\n",
       " 'ron': 28,\n",
       " 'neville': 29,\n",
       " 'percy': 30,\n",
       " 'vernon': 31,\n",
       " 'nick': 32,\n",
       " 'man in a painting': 33,\n",
       " 'bloody baron': 34,\n",
       " 'all': 35,\n",
       " 'crowd': 36,\n",
       " 'guard': 37,\n",
       " 'boy 2': 38,\n",
       " 'snake': 39,\n",
       " 'george': 40,\n",
       " 'flint': 41,\n",
       " 'mcgonagall': 42,\n",
       " 'lee': 43,\n",
       " 'firenze': 44,\n",
       " 'witch': 45,\n",
       " 'ginny': 46,\n",
       " 'dean': 47,\n",
       " 'ollivander': 48,\n",
       " 'dumbledore': 49,\n",
       " 'draco': 50,\n",
       " 'man': 51,\n",
       " 'all (including flitwick)': 52,\n",
       " 'quirrell': 53,\n",
       " 'students': 54,\n",
       " 'woman': 55}"
      ]
     },
     "execution_count": 43,
     "metadata": {},
     "output_type": "execute_result"
    }
   ],
   "source": [
    "charIndMapping"
   ]
  },
  {
   "cell_type": "markdown",
   "metadata": {},
   "source": [
    "Use inverse frequency"
   ]
  },
  {
   "cell_type": "code",
   "execution_count": null,
   "metadata": {},
   "outputs": [
    {
     "data": {
      "text/plain": [
       "array([ 51.,  27.,   7.,   8., 171.,   7.,  34., 301.,  29.,   0.,   3.,\n",
       "       469.,   4.,   1.,   0.,   4.,   0.,  23., 431.,   0.,   0.,   0.,\n",
       "        23.,   0.,  29.,   0.,  15.,   0.,   0.,   0.,   3.,  74.,   1.,\n",
       "         5.,   0.,   5.,   0.,   0.,   0.,   0.,  12.,   0.,  58.,   0.,\n",
       "        13.,   0.,   4.,   5.,  21.,  99.,  30.,   0.,   1.,  54.,   0.,\n",
       "         0.])"
      ]
     },
     "execution_count": 44,
     "metadata": {},
     "output_type": "execute_result"
    }
   ],
   "source": [
    "book_chap_all = np.sum(book_chap_histograms, 0)\n",
    "# book_chap_all"
   ]
  },
  {
   "cell_type": "code",
   "execution_count": null,
   "metadata": {},
   "outputs": [
    {
     "name": "stderr",
     "output_type": "stream",
     "text": [
      "/home/jd/anaconda3/envs/music/lib/python3.6/site-packages/ipykernel_launcher.py:1: RuntimeWarning: divide by zero encountered in log\n",
      "  \"\"\"Entry point for launching an IPython kernel.\n",
      "/home/jd/anaconda3/envs/music/lib/python3.6/site-packages/ipykernel_launcher.py:1: RuntimeWarning: divide by zero encountered in true_divide\n",
      "  \"\"\"Entry point for launching an IPython kernel.\n"
     ]
    }
   ],
   "source": [
    "itf_character = 1/np.log(book_chap_all)\n",
    "itf_character[itf_character == np.inf] = 0"
   ]
  },
  {
   "cell_type": "code",
   "execution_count": null,
   "metadata": {},
   "outputs": [
    {
     "data": {
      "text/plain": [
       "array([ 0.25433478,  0.30341308,  0.51389834,  0.48089835,  0.19448958,\n",
       "        0.51389834,  0.28357849,  0.17522002,  0.2969742 , -0.        ,\n",
       "        0.91023923,  0.16258569,  0.72134752,  0.        , -0.        ,\n",
       "        0.72134752, -0.        ,  0.31892899,  0.16485034, -0.        ,\n",
       "       -0.        , -0.        ,  0.31892899, -0.        ,  0.2969742 ,\n",
       "       -0.        ,  0.36926937, -0.        , -0.        , -0.        ,\n",
       "        0.91023923,  0.23233849,  0.        ,  0.62133493, -0.        ,\n",
       "        0.62133493, -0.        , -0.        , -0.        , -0.        ,\n",
       "        0.4024296 , -0.        ,  0.24627855, -0.        ,  0.38987125,\n",
       "       -0.        ,  0.72134752,  0.62133493,  0.32845874,  0.21762218,\n",
       "        0.2940141 , -0.        ,  0.        ,  0.2506904 , -0.        ,\n",
       "       -0.        ])"
      ]
     },
     "execution_count": 46,
     "metadata": {},
     "output_type": "execute_result"
    }
   ],
   "source": [
    "itf_character"
   ]
  },
  {
   "cell_type": "markdown",
   "metadata": {},
   "source": [
    "# Compute Similarity Matrix"
   ]
  },
  {
   "cell_type": "code",
   "execution_count": null,
   "metadata": {},
   "outputs": [],
   "source": [
    "import matplotlib.pyplot as plt\n",
    "from scipy import spatial"
   ]
  },
  {
   "cell_type": "code",
   "execution_count": null,
   "metadata": {},
   "outputs": [],
   "source": [
    "from sklearn.preprocessing import normalize"
   ]
  },
  {
   "cell_type": "code",
   "execution_count": null,
   "metadata": {},
   "outputs": [
    {
     "data": {
      "text/plain": [
       "array([ 0.,  0.,  0.,  0.,  0.,  0.,  0.,  5.,  5.,  0.,  0.,  0.,  0.,\n",
       "        0.,  0.,  0.,  0.,  0.,  0.,  0.,  0.,  0.,  0.,  0.,  0.,  0.,\n",
       "        0.,  0.,  0.,  0.,  0.,  0.,  0.,  0.,  0.,  0.,  0.,  0.,  0.,\n",
       "        0.,  0.,  0., 24.,  0.,  0.,  0.,  0.,  0.,  0., 31.,  0.,  0.,\n",
       "        0.,  0.,  0.,  0.])"
      ]
     },
     "execution_count": 49,
     "metadata": {},
     "output_type": "execute_result"
    }
   ],
   "source": [
    "# np.array(book_chap_histograms[0])"
   ]
  },
  {
   "cell_type": "code",
   "execution_count": null,
   "metadata": {},
   "outputs": [
    {
     "data": {
      "text/plain": [
       "array([ 0.        ,  0.        ,  0.        ,  0.        ,  0.        ,\n",
       "        0.        ,  0.        ,  0.87610012,  1.48487102, -0.        ,\n",
       "        0.        ,  0.        ,  0.        ,  0.        , -0.        ,\n",
       "        0.        , -0.        ,  0.        ,  0.        , -0.        ,\n",
       "       -0.        , -0.        ,  0.        , -0.        ,  0.        ,\n",
       "       -0.        ,  0.        , -0.        , -0.        , -0.        ,\n",
       "        0.        ,  0.        ,  0.        ,  0.        , -0.        ,\n",
       "        0.        , -0.        , -0.        , -0.        , -0.        ,\n",
       "        0.        , -0.        ,  5.9106851 , -0.        ,  0.        ,\n",
       "       -0.        ,  0.        ,  0.        ,  0.        ,  6.74628759,\n",
       "        0.        , -0.        ,  0.        ,  0.        , -0.        ,\n",
       "       -0.        ])"
      ]
     },
     "execution_count": 50,
     "metadata": {},
     "output_type": "execute_result"
    }
   ],
   "source": [
    "# book_chap_histograms[0] * itf_character"
   ]
  },
  {
   "cell_type": "code",
   "execution_count": null,
   "metadata": {},
   "outputs": [
    {
     "data": {
      "text/plain": [
       "<matplotlib.colorbar.Colorbar at 0x7faf1f1602e8>"
      ]
     },
     "execution_count": 51,
     "metadata": {},
     "output_type": "execute_result"
    },
    {
     "data": {
      "image/png": "[encoded data removed]",
      "text/plain": [
       "<Figure size 432x288 with 2 Axes>"
      ]
     },
     "metadata": {
      "needs_background": "light"
     },
     "output_type": "display_data"
    }
   ],
   "source": [
    "plt.imshow(book_chap_histograms * itf_character)\n",
    "plt.colorbar()"
   ]
  },
  {
   "cell_type": "code",
   "execution_count": null,
   "metadata": {},
   "outputs": [
    {
     "data": {
      "text/plain": [
       "<matplotlib.colorbar.Colorbar at 0x7faf1f0356a0>"
      ]
     },
     "execution_count": 52,
     "metadata": {},
     "output_type": "execute_result"
    },
    {
     "data": {
      "image/png": "[encoded data removed]",
      "text/plain": [
       "<Figure size 432x288 with 2 Axes>"
      ]
     },
     "metadata": {
      "needs_background": "light"
     },
     "output_type": "display_data"
    }
   ],
   "source": [
    "plt.imshow(book_chap_histograms)\n",
    "plt.colorbar()"
   ]
  },
  {
   "cell_type": "code",
   "execution_count": null,
   "metadata": {},
   "outputs": [
    {
     "ename": "NameError",
     "evalue": "name 'book_chap_histograms' is not defined",
     "output_type": "error",
     "traceback": [
      "\u001b[0;31m---------------------------------------------------------------------------\u001b[0m",
      "\u001b[0;31mNameError\u001b[0m                                 Traceback (most recent call last)",
      "Cell \u001b[0;32mIn[31], line 1\u001b[0m\n\u001b[0;32m----> 1\u001b[0m CHAP_COUNT \u001b[39m=\u001b[39m \u001b[39mlen\u001b[39m(book_chap_histograms)\n\u001b[1;32m      2\u001b[0m SCENE_COUNT \u001b[39m=\u001b[39m \u001b[39mlen\u001b[39m(scene_char_histograms)\n\u001b[1;32m      4\u001b[0m characterSimMat \u001b[39m=\u001b[39m np\u001b[39m.\u001b[39mzeros((CHAP_COUNT, SCENE_COUNT))\n",
      "\u001b[0;31mNameError\u001b[0m: name 'book_chap_histograms' is not defined"
     ]
    }
   ],
   "source": [
    "CHAP_COUNT = len(book_chap_histograms)\n",
    "SCENE_COUNT = len(scene_char_histograms)\n",
    "\n",
    "characterSimMat = np.zeros((CHAP_COUNT, SCENE_COUNT))\n",
    "\n",
    "norm_book_chap_histograms = normalize(book_chap_histograms, axis=1, norm='l2')\n",
    "norm_scene_char_histograms = normalize(scene_char_histograms, axis=1, norm='l2')\n",
    "\n",
    "for i in range(CHAP_COUNT):\n",
    "    for j in range(SCENE_COUNT):\n",
    "        \n",
    "        characterSimMat[i][j] = (2 ** 0.5) - np.linalg.norm(norm_scene_char_histograms[j] - norm_book_chap_histograms[i])\n",
    "#         characterSimMat[i][j] = 1 - spatial.distance.cosine(norm_book_chap_histograms[i], norm_scene_char_histograms[j])\n",
    "    \n",
    "        if np.isnan(characterSimMat[i][j]):\n",
    "            characterSimMat[i][j] = 0"
   ]
  },
  {
   "cell_type": "code",
   "execution_count": null,
   "metadata": {
    "scrolled": false
   },
   "outputs": [
    {
     "data": {
      "image/png": "[encoded data removed]",
      "text/plain": [
       "<Figure size 7200x288 with 2 Axes>"
      ]
     },
     "metadata": {
      "needs_background": "light"
     },
     "output_type": "display_data"
    }
   ],
   "source": [
    "plt.imshow(characterSimMat/np.max(characterSimMat.flatten()))\n",
    "plt.colorbar()\n",
    "plt.gcf().set_figwidth(100)\n",
    "plt.show()"
   ]
  },
  {
   "cell_type": "code",
   "execution_count": null,
   "metadata": {},
   "outputs": [],
   "source": [
    "normCharacterSimMat = characterSimMat/np.max(characterSimMat.flatten())"
   ]
  },
  {
   "cell_type": "code",
   "execution_count": null,
   "metadata": {},
   "outputs": [
    {
     "data": {
      "text/plain": [
       "0"
      ]
     },
     "execution_count": 56,
     "metadata": {},
     "output_type": "execute_result"
    }
   ],
   "source": [
    "savecache(characterSimMat, 'characterSimMat_120_axis0')"
   ]
  },
  {
   "cell_type": "code",
   "execution_count": null,
   "metadata": {},
   "outputs": [],
   "source": [
    "characterSimMat = loadcache('characterSimMat_120_axis0')"
   ]
  },
  {
   "cell_type": "markdown",
   "metadata": {},
   "source": [
    "# Next Part: Dialogue Matching "
   ]
  },
  {
   "cell_type": "code",
   "execution_count": 46,
   "metadata": {},
   "outputs": [],
   "source": [
    "BOOK_PROC_PATH = \"./processed/dune/chapters\"\n",
    "BOOK_TEXT_PATH = \"./data/dune/book/\"\n",
    "\n",
    "chapter_names = os.listdir(BOOK_PROC_PATH)\n",
    "from nltk.tokenize import word_tokenize\n",
    "from scripts.bookQuoteExtractor import Book, getChapterQuotes\n",
    "chapters = sorted(os.listdir(BOOK_TEXT_PATH), key=lambda x: int(x.split('-')[0]))\n",
    "\n",
    "# Create book class\n",
    "book = Book(chapters, BOOK_TEXT_PATH)\n",
    "chapterText = book.chapterContent\n",
    "chapterText = list(map(lambda x: x.getText(), chapterText))\n",
    "\n",
    "# Get all subtitles / dialogues in movie\n",
    "sceneText = []\n",
    "\n",
    "for scene in scene_break_times:\n",
    "    start, end, num, start_time, end_time = scene\n",
    "    subs = get_subtitles(start_time, end_time)\n",
    "    \n",
    "    sceneText.append(subs)\n",
    "\n",
    "from scripts.lcs import lcs\n",
    "from scripts.utils import *"
   ]
  },
  {
   "cell_type": "markdown",
   "metadata": {},
   "source": [
    "Compute Term Frequency for all words in video"
   ]
  },
  {
   "cell_type": "code",
   "execution_count": 47,
   "metadata": {},
   "outputs": [],
   "source": [
    "f = open(TRANSCRIPT_JSON_PATH, \"r\")\n",
    "subtitles = json.load(f)\n",
    "subtitles = subtitles['transcript']\n",
    "\n",
    "videoTextAll = ' '.join(list(map(lambda x: x['line'], subtitles))).lower()\n",
    "videoTextWords = list(map(lambda x: remove_punctuation(remove_extra_whitespace(x)), videoTextAll.split()))\n",
    "videoWordCount = dict(Counter(videoTextWords))"
   ]
  },
  {
   "cell_type": "markdown",
   "metadata": {},
   "source": [
    "Compute term frequency for all words in book"
   ]
  },
  {
   "cell_type": "code",
   "execution_count": 49,
   "metadata": {},
   "outputs": [],
   "source": [
    "bookText = book.getAllText().lower()\n",
    "bookWords = list(map(lambda x: remove_punctuation(remove_extra_whitespace(x)), bookText.split()))\n",
    "bookWordCount = dict(Counter(bookWords))"
   ]
  },
  {
   "cell_type": "markdown",
   "metadata": {},
   "source": [
    "Go Through every chapter, get all dialogues in the chapter, and compute the score"
   ]
  },
  {
   "cell_type": "code",
   "execution_count": 50,
   "metadata": {},
   "outputs": [],
   "source": [
    "chapterQuotes = list(map(lambda x: getChapterQuotes(os.path.join(BOOK_TEXT_PATH, x + \".txt\")), chapter_names))\n",
    "videoDialogues = list(map(lambda x: video.get_subtitles_in_scene(x), np.arange(len(video))))\n",
    "\n",
    "def text_process_dialogue(sent):\n",
    "    sent = lower_text(sent)\n",
    "    sent = remove_extra_whitespace(sent)\n",
    "    sent = remove_punctuation(sent)\n",
    "    sent = word_tokenize(sent)\n",
    "    \n",
    "    return sent\n",
    "    \n",
    "def text_process_dialogues(sents):\n",
    "    return list(map(text_process_dialogue, sents))"
   ]
  },
  {
   "cell_type": "code",
   "execution_count": 51,
   "metadata": {},
   "outputs": [
    {
     "name": "stderr",
     "output_type": "stream",
     "text": [
      "[nltk_data] Downloading package punkt to /home/aneesh/nltk_data...\n",
      "[nltk_data]   Package punkt is already up-to-date!\n"
     ]
    },
    {
     "data": {
      "text/plain": [
       "True"
      ]
     },
     "execution_count": 51,
     "metadata": {},
     "output_type": "execute_result"
    }
   ],
   "source": [
    "import nltk\n",
    "nltk.download('punkt')"
   ]
  },
  {
   "cell_type": "code",
   "execution_count": 52,
   "metadata": {},
   "outputs": [],
   "source": [
    "chapterQuotes = list(map(lambda x: text_process_dialogues(x), chapterQuotes))\n",
    "videoDialogues = list(map(lambda x: text_process_dialogues(x), videoDialogues))"
   ]
  },
  {
   "cell_type": "code",
   "execution_count": 53,
   "metadata": {},
   "outputs": [],
   "source": [
    "from multiprocessing import Pool"
   ]
  },
  {
   "cell_type": "code",
   "execution_count": 50,
   "metadata": {
    "scrolled": true
   },
   "outputs": [],
   "source": [
    "pool = Pool(10)"
   ]
  },
  {
   "cell_type": "code",
   "execution_count": 54,
   "metadata": {},
   "outputs": [],
   "source": [
    "CHAP_COUNT = len(chapter_names)\n",
    "SCENE_COUNT = len(scene_break_times)\n",
    "\n",
    "dialogueSimMat = np.zeros((CHAP_COUNT, SCENE_COUNT))"
   ]
  },
  {
   "cell_type": "markdown",
   "metadata": {},
   "source": [
    "Get stopwords"
   ]
  },
  {
   "cell_type": "code",
   "execution_count": 55,
   "metadata": {},
   "outputs": [],
   "source": [
    "import nltk\n",
    "from nltk.corpus import stopwords\n",
    "\n",
    "STOPWORDS = stopwords.words('english')"
   ]
  },
  {
   "cell_type": "code",
   "execution_count": 56,
   "metadata": {},
   "outputs": [],
   "source": [
    "def simMake(i, j):        \n",
    "    itf = 0\n",
    "    scores = []\n",
    "    dialogues = []\n",
    "    \n",
    "    for ii in range(len(chapterQuotes[i])):\n",
    "        for jj in range(len(videoDialogues[j])):\n",
    "\n",
    "            matched = lcs(chapterQuotes[i][ii], videoDialogues[j][jj])\n",
    "            matched = list(filter(lambda x: x not in STOPWORDS, matched))\n",
    "            \n",
    "            localItf = 0\n",
    "            \n",
    "            for word in matched:\n",
    "                if word in videoWordCount.keys():\n",
    "                    localItf += np.log(1/videoWordCount[word])\n",
    "                else:\n",
    "                    print(word, \"missing\")\n",
    "                    \n",
    "            scores.append(localItf * len(matched))\n",
    "            dialogues.append(matched)\n",
    "            \n",
    "            itf += localItf * len(matched)\n",
    "    \n",
    "    dialogueSimMat[i, j] = itf\n",
    "    \n",
    "    # print(i, \"Chapter\", j, \"Scene\", \"Done:\", -itf)    \n",
    "    # print(\"--------\")\n",
    "    \n",
    "    return itf"
   ]
  },
  {
   "cell_type": "code",
   "execution_count": 57,
   "metadata": {},
   "outputs": [],
   "source": [
    "iterables = []\n",
    "\n",
    "for i in range(CHAP_COUNT):\n",
    "    for j in range(SCENE_COUNT):\n",
    "        iterables.append((i, j))"
   ]
  },
  {
   "cell_type": "code",
   "execution_count": 58,
   "metadata": {
    "scrolled": true
   },
   "outputs": [],
   "source": [
    "# result = pool.starmap(simMake, iterables)\n",
    "\n",
    "from tqdm import tqdm\n",
    "\n",
    "results = []\n",
    "for item in tqdm(iterables):\n",
    "    result = simMake(*item)\n",
    "    results.append(result)\n",
    "\n",
    "    "
   ]
  },
  {
   "cell_type": "code",
   "execution_count": 59,
   "metadata": {},
   "outputs": [
    {
     "ename": "NameError",
     "evalue": "name 'results' is not defined",
     "output_type": "error",
     "traceback": [
      "\u001b[0;31m---------------------------------------------------------------------------\u001b[0m",
      "\u001b[0;31mNameError\u001b[0m                                 Traceback (most recent call last)",
      "Cell \u001b[0;32mIn[59], line 1\u001b[0m\n\u001b[0;32m----> 1\u001b[0m \u001b[39mprint\u001b[39m(results)\n",
      "\u001b[0;31mNameError\u001b[0m: name 'results' is not defined"
     ]
    }
   ],
   "source": [
    "print(results)"
   ]
  },
  {
   "cell_type": "code",
   "execution_count": 134,
   "metadata": {},
   "outputs": [],
   "source": [
    "for idx, iterable in enumerate(iterables):\n",
    "    i, j = iterable\n",
    "    dialogueSimMat[i][j] = results[idx]"
   ]
  },
  {
   "cell_type": "code",
   "execution_count": 139,
   "metadata": {},
   "outputs": [
    {
     "data": {
      "image/png": "[encoded data removed]",
      "text/plain": [
       "<Figure size 10000x480 with 2 Axes>"
      ]
     },
     "metadata": {},
     "output_type": "display_data"
    }
   ],
   "source": [
    "import matplotlib.pyplot as plt\n",
    "\n",
    "# plt.imshow(-dialogueSimMatLoad/np.max(-dialogueSimMatLoad))\n",
    "# plt.colorbar()\n",
    "# plt.gcf().set_figwidth(100)\n",
    "# plt.show()\n",
    "\n",
    "plt.imshow(-dialogueSimMat/np.max(-dialogueSimMat))\n",
    "plt.colorbar()\n",
    "plt.gcf().set_figwidth(100)\n",
    "plt.show()"
   ]
  },
  {
   "cell_type": "markdown",
   "metadata": {},
   "source": [
    "Normed Similarity Matrix for Dialogue"
   ]
  },
  {
   "cell_type": "code",
   "execution_count": 143,
   "metadata": {},
   "outputs": [],
   "source": [
    "normedDialogueSimMat = -dialogueSimMat/np.max(-dialogueSimMat)\n",
    "savecache(dialogueSimMat, './notebook_output/dialogueMatch')\n",
    "savecache(normedDialogueSimMat, './notebook_output/normedDialogueSimMat')"
   ]
  },
  {
   "cell_type": "code",
   "execution_count": 60,
   "metadata": {},
   "outputs": [],
   "source": [
    "dialogueSimMatLoad = loadcache('./notebook_output/dialogueMatch')\n",
    "normedDialogueSimMat = loadcache('./notebook_output/normedDialogueSimMat')"
   ]
  },
  {
   "cell_type": "markdown",
   "metadata": {},
   "source": [
    "# Create Graph"
   ]
  },
  {
   "cell_type": "code",
   "execution_count": 62,
   "metadata": {},
   "outputs": [],
   "source": [
    "import igraph\n",
    "\n",
    "G = igraph.Graph(directed=True)\n",
    "\n",
    "NC = CHAP_COUNT\n",
    "NS = SCENE_COUNT\n",
    "S_vertex = NC * NS\n",
    "T_vertex = NC * NS + 1\n",
    "\n",
    "\"\"\"\n",
    "Since igraph only supports integer indexing, we convert pixel coordinates to integer.\n",
    "\"\"\"\n",
    "\n",
    "def tuple_to_int(i, j, col):\n",
    "    return i * col + j\n",
    "\n",
    "\"\"\"\n",
    "This converts hashed nodes back to the pixel coordinates.\n",
    "\"\"\"\n",
    "\n",
    "def int_to_tuple(pt, col):\n",
    "    y = pt % col\n",
    "    x = (pt - y)/col\n",
    "    return (x, y)    "
   ]
  },
  {
   "attachments": {},
   "cell_type": "markdown",
   "metadata": {},
   "source": [
    "## Make Vertices"
   ]
  },
  {
   "cell_type": "code",
   "execution_count": 64,
   "metadata": {},
   "outputs": [],
   "source": [
    "vertices = [S_vertex, T_vertex]\n",
    "_ = [[vertices.append(tuple_to_int(i, j, NS)) for j in range(NS)] for i in range(NC)]\n",
    "min(vertices), max(vertices)\n",
    "\n",
    "# Make Edges\n",
    "edges = []\n",
    "capacity = []\n",
    "alpha = 1\n",
    "gs = []\n",
    "\n",
    "# Add edges from source\n",
    "\n",
    "for i in range(NC):\n",
    "    gaussian_factor = 2 - np.exp(-(i) ** 2/(2*NS**2)) # Equation 7 (Global)\n",
    "    \n",
    "    # print(gaussian_factor, S_vertex, tuple_to_int(i, 0, NS))\n",
    "    \n",
    "    edges.append([S_vertex, tuple_to_int(i, 0, NS)])\n",
    "    capacity.append(gaussian_factor)\n",
    "\n",
    "# Add edges to sink\n",
    "\n",
    "for i in range(NC):\n",
    "    gaussian_factor = 2 - np.exp(-(NC-i-1) ** 2/(2*NS**2)) # Equation 7 (Global)  \n",
    "    \n",
    "#     print(gaussian_factor, tuple_to_int(i, NS-1, NS), T_vertex)\n",
    "    \n",
    "    if i == NC-1:\n",
    "        gaussian_factor = 0\n",
    "    \n",
    "    edges.append([tuple_to_int(i, NS-1, NS), T_vertex])\n",
    "    capacity.append(gaussian_factor)"
   ]
  },
  {
   "cell_type": "code",
   "execution_count": 65,
   "metadata": {},
   "outputs": [
    {
     "data": {
      "text/plain": [
       "(0.0, 1.0519150019598995)"
      ]
     },
     "execution_count": 65,
     "metadata": {},
     "output_type": "execute_result"
    }
   ],
   "source": [
    "np.min(capacity), np.max(capacity)"
   ]
  },
  {
   "attachments": {},
   "cell_type": "markdown",
   "metadata": {},
   "source": [
    "Add edge from scene s to scene s+1 for all chapters - local distance - Includes global likelihood\n",
    "\n",
    "Also subtract the similarity values based on character histograms and \n",
    "\n",
    "**This is not done for the first row - no chapter**"
   ]
  },
  {
   "cell_type": "code",
   "execution_count": 66,
   "metadata": {},
   "outputs": [],
   "source": [
    "edgeWeightMat = np.zeros_like(normedDialogueSimMat)"
   ]
  },
  {
   "cell_type": "code",
   "execution_count": 67,
   "metadata": {},
   "outputs": [],
   "source": [
    "for j in range(NS-1): # Cannot do the last column / scene\n",
    "    for i in range(NC):  # For every chapter\n",
    "        for k in range(NC): # For every next chapter             \n",
    "            \n",
    "            if k < i or k > i+1: # FORCE all chapters to only jump to next, not further\n",
    "                continue\n",
    "            \n",
    "            weight = alpha + ((k-i)**2/(2 * NC**2)) # Equation 6 (Local)\n",
    "            gaussian_factor = 2 - np.exp(-(j - i*(NS/NC)) ** 2/(2*NS**2)) # Equation 7 (Global)\n",
    "                        \n",
    "            weight *= gaussian_factor\n",
    "            gs.append(gaussian_factor)\n",
    "                        \n",
    "            # weight -= 0.5 * normCharacterSimMat[k, j+1]\n",
    "            weight -= normedDialogueSimMat[k, j+1]      # adjusted becuase no character data\n",
    "\n",
    "#             print(weight, i, j, \"->\", k, j+1)\n",
    "                        \n",
    "            if weight < 0:\n",
    "                print(weight)\n",
    "                weight = 0\n",
    "\n",
    "#             weight *= gaussian_factor\n",
    "                        \n",
    "            edgeWeightMat[k, j+1] = weight\n",
    "            edges.append([tuple_to_int(i, j, NS), tuple_to_int(k, j+1, NS)])\n",
    "            capacity.append(weight)"
   ]
  },
  {
   "cell_type": "code",
   "execution_count": 69,
   "metadata": {},
   "outputs": [
    {
     "data": {
      "image/png": "[encoded data removed]",
      "text/plain": [
       "<Figure size 640x480 with 1 Axes>"
      ]
     },
     "metadata": {},
     "output_type": "display_data"
    }
   ],
   "source": [
    "import matplotlib.pyplot as plt\n",
    "plt.hist(capacity)\n",
    "plt.show()"
   ]
  },
  {
   "cell_type": "code",
   "execution_count": 70,
   "metadata": {},
   "outputs": [
    {
     "data": {
      "image/png": "[encoded data removed]",
      "text/plain": [
       "<Figure size 10000x480 with 2 Axes>"
      ]
     },
     "metadata": {},
     "output_type": "display_data"
    }
   ],
   "source": [
    "plt.imshow(edgeWeightMat)\n",
    "plt.colorbar()\n",
    "plt.gcf().set_figwidth(100)\n",
    "plt.show()"
   ]
  },
  {
   "cell_type": "code",
   "execution_count": 71,
   "metadata": {},
   "outputs": [
    {
     "data": {
      "image/png": "[encoded data removed]",
      "text/plain": [
       "<Figure size 10000x480 with 2 Axes>"
      ]
     },
     "metadata": {},
     "output_type": "display_data"
    }
   ],
   "source": [
    "# plt.imshow(0.5 * normCharacterSimMat + 0.5 * normedDialogueSimMat)\n",
    "plt.imshow(normedDialogueSimMat)\n",
    "plt.colorbar()\n",
    "plt.gcf().set_figwidth(100)\n",
    "plt.show()"
   ]
  },
  {
   "cell_type": "code",
   "execution_count": 72,
   "metadata": {},
   "outputs": [],
   "source": [
    "mu_g = np.mean(gs)"
   ]
  },
  {
   "cell_type": "markdown",
   "metadata": {},
   "source": [
    "# Add Things to the Graph"
   ]
  },
  {
   "cell_type": "code",
   "execution_count": 73,
   "metadata": {},
   "outputs": [],
   "source": [
    "G.add_vertices(vertices)\n",
    "G.add_edges(edges, {'capacity': capacity})"
   ]
  },
  {
   "cell_type": "markdown",
   "metadata": {},
   "source": [
    "# Compute Shortest Path"
   ]
  },
  {
   "cell_type": "code",
   "execution_count": 188,
   "metadata": {},
   "outputs": [],
   "source": [
    "import matplotlib\n",
    "\n",
    "# matplotlib.use(\"Qt5Agg\")\n",
    "# matplotlib.rcParams.update({\n",
    "#     \"pgf.texsystem\": \"pdflatex\",\n",
    "#     'font.family': 'serif',\n",
    "#     'text.usetex': True,\n",
    "#     'pgf.rcfonts': False,\n",
    "#     'font.size': 15,\n",
    "# })\n",
    "\n",
    "# matplotlib.rc_file_defaults()"
   ]
  },
  {
   "cell_type": "code",
   "execution_count": 74,
   "metadata": {
    "scrolled": false
   },
   "outputs": [
    {
     "data": {
      "image/png": "[encoded data removed]",
      "text/plain": [
       "<Figure size 3000x480 with 2 Axes>"
      ]
     },
     "metadata": {},
     "output_type": "display_data"
    }
   ],
   "source": [
    "path = G.get_shortest_paths(S_vertex, to=T_vertex, weights=capacity, mode=\"out\", output='vpath')[0][1:-1]\n",
    "alignment = []\n",
    "\n",
    "plt.imshow(edgeWeightMat, cmap='coolwarm_r')\n",
    "prevI = 0\n",
    "prevJ = 0\n",
    "\n",
    "for node in path:\n",
    "    chap, scene = int_to_tuple(node, NS)\n",
    "    \n",
    "    alignment.append({\n",
    "        'chapter': chap,\n",
    "        'scene': scene\n",
    "    })\n",
    "    \n",
    "    plt.plot([prevJ, scene], [prevI, chap], color=\"red\")\n",
    "    \n",
    "    prevI = chap\n",
    "    prevJ = scene\n",
    "    \n",
    "    \n",
    "plt.colorbar()\n",
    "plt.gca().set_ylabel(\"Chapter Number\")\n",
    "plt.gca().set_xlabel(\"Scene Number\")\n",
    "plt.gcf().set_figwidth(30)\n",
    "# plt.savefig(\"graph_b2m.pdf\", bbox_inches=\"tight\")\n",
    "plt.show()"
   ]
  },
  {
   "cell_type": "markdown",
   "metadata": {},
   "source": [
    "Save to cache"
   ]
  },
  {
   "cell_type": "code",
   "execution_count": 75,
   "metadata": {},
   "outputs": [],
   "source": [
    "savecache(alignment, './notebook_output/alignment')"
   ]
  }
 ],
 "metadata": {
  "kernelspec": {
   "display_name": "Python 3",
   "language": "python",
   "name": "python3"
  },
  "language_info": {
   "codemirror_mode": {
    "name": "ipython",
    "version": 3
   },
   "file_extension": ".py",
   "mimetype": "text/x-python",
   "name": "python",
   "nbconvert_exporter": "python",
   "pygments_lexer": "ipython3",
   "version": "3.9.13"
  }
 },
 "nbformat": 4,
 "nbformat_minor": 4
}
